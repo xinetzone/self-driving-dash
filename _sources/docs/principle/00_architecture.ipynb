{
 "cells": [
  {
   "cell_type": "markdown",
   "id": "c2d8d0a0",
   "metadata": {},
   "source": [
    "# 项目剖析\n",
    "\n",
    "`````{dropdown} 源码的细节。\n",
    "\n",
    "````{tabbed} app .py\n",
    "项目中的 Dash 应用。\n",
    "\n",
    "```{include} ../../app.py\n",
    ":code: python\n",
    "```\n",
    "````\n",
    "\n",
    "````{tabbed} run .py\n",
    "项目中的 Dash 应用主程序。\n",
    "\n",
    "```{include} ../../run.py\n",
    ":code: python\n",
    "```\n",
    "````\n",
    "\n",
    "````{tabbed} layouts/\n",
    "项目中的 Dash 应用的多页布局。\n",
    "````\n",
    "\n",
    "````{tabbed} apps/\n",
    "项目中的 Dash 应用的多页应用。\n",
    "````\n",
    "\n",
    "````{tabbed} utils/\n",
    "项目中的 Dash 应用的工具，包括可复用组件。\n",
    "````\n",
    "`````"
   ]
  }
 ],
 "metadata": {
  "jupytext": {
   "text_representation": {
    "extension": ".md",
    "format_name": "myst"
   }
  },
  "kernelspec": {
   "display_name": "ai",
   "language": "python",
   "name": "ai"
  },
  "language_info": {
   "codemirror_mode": {
    "name": "ipython",
    "version": 3
   },
   "file_extension": ".py",
   "mimetype": "text/x-python",
   "name": "python",
   "nbconvert_exporter": "python",
   "pygments_lexer": "ipython3",
   "version": "3.9.5"
  },
  "source_map": [
   10
  ]
 },
 "nbformat": 4,
 "nbformat_minor": 5
}